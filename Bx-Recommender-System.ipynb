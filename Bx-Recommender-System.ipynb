{
 "cells": [
  {
   "cell_type": "code",
   "execution_count": 1,
   "metadata": {
    "collapsed": true
   },
   "outputs": [],
   "source": [
    "import numpy as np\n",
    "import pandas as pd\n",
    "import matplotlib.pyplot as plt\n",
    "%matplotlib inline\n",
    "from mpl_toolkits.mplot3d import Axes3D\n",
    "import random\n",
    "from sklearn.model_selection import train_test_split\n",
    "import torch\n",
    "import torch.nn as nn\n",
    "import torch.nn.parallel\n",
    "import torch.optim as optim\n",
    "import torch.utils.data\n",
    "from torch.autograd import Variable"
   ]
  },
  {
   "cell_type": "markdown",
   "metadata": {},
   "source": [
    "# Jonathan Scott"
   ]
  },
  {
   "cell_type": "markdown",
   "metadata": {},
   "source": [
    "# Resources\n",
    "https://rachellegardner.com/isbn-10-isbn-13-and-those-pesky-x%E2%80%99s/\n",
    "\n",
    "https://sellercentral.amazon.com/forums/thread.jspa?threadID=17640\n",
    "\n",
    "https://stackoverflow.com/questions/7881994/matplotlib-how-to-change-data-points-color-based-on-some-variable\n",
    "\n",
    "https://matplotlib.org/examples/mplot3d/scatter3d_demo.html"
   ]
  },
  {
   "cell_type": "markdown",
   "metadata": {},
   "source": [
    "# Background"
   ]
  },
  {
   "cell_type": "markdown",
   "metadata": {},
   "source": [
    "The task was using a Lab-41 dataset create a simple recommender system. Before I started the challenge  I knew nothing about machine learning let alone deep learning. In an attempt to fix this I took a Udemy course on deep learning. In the course the instructor used a Stacked AutoEncoder to make a simple recommender system. I thought I could try to do the same thing. I had problems getting the model to perform to my liking as I was experiecing overfitting. I discuss this later on."
   ]
  },
  {
   "cell_type": "markdown",
   "metadata": {},
   "source": [
    "### Importing the dataset\n",
    "I am using a MacBook Pro (Retina, 13-inch, Early 2015) with 8 GB 1867 MHz DDR3 of RAM. \n",
    "I also used the scientific IDE Spyder before transferring my work into this jupyter notebook, which when idle uses around 76% of my memory. This means that I do not have much space left for using the entire bx-data set. "
   ]
  },
  {
   "cell_type": "code",
   "execution_count": 2,
   "metadata": {},
   "outputs": [
    {
     "name": "stderr",
     "output_type": "stream",
     "text": [
      "Skipping line 21689: ';' expected after '\"'\n",
      "Skipping line 45329: ';' expected after '\"'\n",
      "Skipping line 45330: ';' expected after '\"'\n",
      "Skipping line 183262: ';' expected after '\"'\n",
      "Skipping line 210093: ';' expected after '\"'\n",
      "Skipping line 531938: ';' expected after '\"'\n",
      "Skipping line 663237: ';' expected after '\"'\n",
      "Skipping line 824822: ';' expected after '\"'\n",
      "Skipping line 877349: ';' expected after '\"'\n",
      "Skipping line 941679: ';' expected after '\"'\n",
      "Skipping line 1134132: ';' expected after '\"'\n",
      "Skipping line 1145176: ';' expected after '\"'\n",
      "Skipping line 1145177: ';' expected after '\"'\n",
      "Skipping line 1148551: ';' expected after '\"'\n"
     ]
    }
   ],
   "source": [
    "#books = pd.read_csv('BX-CSV-Dump/BX-Books.csv', sep = ';', header = None,engine= 'python',encoding = 'latin-1',error_bad_lines=False)\n",
    "#users = pd.read_csv('BX-CSV-Dump/BX-Users.csv', sep = ';', header = None,engine= 'python',encoding = 'latin-1',error_bad_lines=False)\n",
    "n = 1149767 #number of records in file\n",
    "s = 10000 #desired sample size\n",
    "skip = sorted(random.sample(xrange(n),n-s))\n",
    "#ratings = pd.read_csv('BX-CSV-Dump/BX-Book-Ratings.csv', sep = ';', header = None,engine= 'python',encoding = 'latin-1',error_bad_lines=False,skiprows=skip)\n",
    "ratings = pd.read_csv('BX-CSV-Dump/BX-Book-Ratings.csv', sep = ';', header = None,engine= 'python',encoding = 'latin-1',error_bad_lines=False,skiprows=1)"
   ]
  },
  {
   "cell_type": "code",
   "execution_count": 3,
   "metadata": {},
   "outputs": [],
   "source": [
    "ratings_sampled = ratings.sample(n=10000) # This is used to get a sample of the data with a distribution \n",
    "#that reflects the original data\n",
    "#ratings.head()"
   ]
  },
  {
   "cell_type": "code",
   "execution_count": 4,
   "metadata": {},
   "outputs": [
    {
     "data": {
      "text/html": [
       "<div>\n",
       "<style>\n",
       "    .dataframe thead tr:only-child th {\n",
       "        text-align: right;\n",
       "    }\n",
       "\n",
       "    .dataframe thead th {\n",
       "        text-align: left;\n",
       "    }\n",
       "\n",
       "    .dataframe tbody tr th {\n",
       "        vertical-align: top;\n",
       "    }\n",
       "</style>\n",
       "<table border=\"1\" class=\"dataframe\">\n",
       "  <thead>\n",
       "    <tr style=\"text-align: right;\">\n",
       "      <th></th>\n",
       "      <th>0</th>\n",
       "      <th>1</th>\n",
       "      <th>2</th>\n",
       "    </tr>\n",
       "  </thead>\n",
       "  <tbody>\n",
       "    <tr>\n",
       "      <th>858732</th>\n",
       "      <td>207669</td>\n",
       "      <td>0552998486</td>\n",
       "      <td>9</td>\n",
       "    </tr>\n",
       "    <tr>\n",
       "      <th>252840</th>\n",
       "      <td>57974</td>\n",
       "      <td>000649840X</td>\n",
       "      <td>5</td>\n",
       "    </tr>\n",
       "    <tr>\n",
       "      <th>462810</th>\n",
       "      <td>110973</td>\n",
       "      <td>0373026099</td>\n",
       "      <td>0</td>\n",
       "    </tr>\n",
       "    <tr>\n",
       "      <th>136002</th>\n",
       "      <td>30985</td>\n",
       "      <td>0684834731</td>\n",
       "      <td>9</td>\n",
       "    </tr>\n",
       "    <tr>\n",
       "      <th>352614</th>\n",
       "      <td>84831</td>\n",
       "      <td>3499108518</td>\n",
       "      <td>0</td>\n",
       "    </tr>\n",
       "  </tbody>\n",
       "</table>\n",
       "</div>"
      ],
      "text/plain": [
       "             0           1  2\n",
       "858732  207669  0552998486  9\n",
       "252840   57974  000649840X  5\n",
       "462810  110973  0373026099  0\n",
       "136002   30985  0684834731  9\n",
       "352614   84831  3499108518  0"
      ]
     },
     "execution_count": 4,
     "metadata": {},
     "output_type": "execute_result"
    }
   ],
   "source": [
    "ratings_sampled.head()"
   ]
  },
  {
   "cell_type": "markdown",
   "metadata": {},
   "source": [
    "### Data Inspection and Visualzation"
   ]
  },
  {
   "cell_type": "code",
   "execution_count": 69,
   "metadata": {},
   "outputs": [
    {
     "data": {
      "text/plain": [
       "<matplotlib.axes._subplots.AxesSubplot at 0x114f2e590>"
      ]
     },
     "execution_count": 69,
     "metadata": {},
     "output_type": "execute_result"
    },
    {
     "data": {
      "image/png": "[encoded data removed]",
      "text/plain": [
       "<matplotlib.figure.Figure at 0x1104cc0d0>"
      ]
     },
     "metadata": {},
     "output_type": "display_data"
    }
   ],
   "source": [
    "#Looking at the distribution of ratings\n",
    "ratings[2].hist(bins=10)"
   ]
  },
  {
   "cell_type": "markdown",
   "metadata": {},
   "source": [
    "**Below I am checking to see how my sample compares to the original distribution.\n",
    "It seems to be a good representation of the whole data.**"
   ]
  },
  {
   "cell_type": "code",
   "execution_count": 70,
   "metadata": {},
   "outputs": [
    {
     "data": {
      "text/plain": [
       "<matplotlib.axes._subplots.AxesSubplot at 0x11047a510>"
      ]
     },
     "execution_count": 70,
     "metadata": {},
     "output_type": "execute_result"
    },
    {
     "data": {
      "image/png": "[encoded data removed]",
      "text/plain": [
       "<matplotlib.figure.Figure at 0x114b300d0>"
      ]
     },
     "metadata": {},
     "output_type": "display_data"
    }
   ],
   "source": [
    "# fig = plt.figure(figsize=(11,8))\n",
    "# ax = fig.add_subplot(111) \n",
    "# ax.hist(np.array(ratings[2]),bins=10)\n",
    "# ax.hist(np.array(ratings_sampled[2]),bins=10)\n",
    "ratings_sampled[2].hist(bins=10)\n"
   ]
  },
  {
   "cell_type": "markdown",
   "metadata": {},
   "source": [
    "We are focused on the ratings data. The first column is a user-id, the second column is a ISBN number for a book and the third column is a book rating given by a user. After inspecting more of the ISBN number column, I noticed that not all entries are integers, some had X's in them. Which would make it hard to input into a neural network so I decided to map the userIDs and the ISBN numbers to smaller integers in order to have in a format that the PyTorch module can work with."
   ]
  },
  {
   "cell_type": "markdown",
   "metadata": {},
   "source": [
    "#### Mapping of userIds and ISBN columns"
   ]
  },
  {
   "cell_type": "code",
   "execution_count": 7,
   "metadata": {
    "collapsed": true
   },
   "outputs": [],
   "source": [
    "#remap USER IDs, so it is easy to get nb_users\n",
    "id_users = ratings_sampled[0].unique()\n",
    "user_map = {}\n",
    "user_count = 0\n",
    "for user in id_users:\n",
    "    user_map[user] = user_count\n",
    "    user_count+=1"
   ]
  },
  {
   "cell_type": "code",
   "execution_count": 8,
   "metadata": {
    "collapsed": true
   },
   "outputs": [],
   "source": [
    "id_books = ratings_sampled[1].unique()\n",
    "books_map = {}\n",
    "book_count = 0\n",
    "for book in id_books:\n",
    "    books_map[book] = book_count\n",
    "    book_count+=1"
   ]
  },
  {
   "cell_type": "code",
   "execution_count": 10,
   "metadata": {
    "collapsed": true
   },
   "outputs": [],
   "source": [
    "ratings_user_mapped = ratings_sampled[0].map(user_map)\n",
    "ratings_book_mapped = ratings_sampled[1].map(books_map)\n",
    "pieces = [ratings_user_mapped, ratings_book_mapped ,ratings_sampled[2]]\n",
    "mapped_ratings = pd.concat(pieces,axis=1)"
   ]
  },
  {
   "cell_type": "code",
   "execution_count": 11,
   "metadata": {
    "scrolled": false
   },
   "outputs": [
    {
     "data": {
      "text/html": [
       "<div>\n",
       "<style>\n",
       "    .dataframe thead tr:only-child th {\n",
       "        text-align: right;\n",
       "    }\n",
       "\n",
       "    .dataframe thead th {\n",
       "        text-align: left;\n",
       "    }\n",
       "\n",
       "    .dataframe tbody tr th {\n",
       "        vertical-align: top;\n",
       "    }\n",
       "</style>\n",
       "<table border=\"1\" class=\"dataframe\">\n",
       "  <thead>\n",
       "    <tr style=\"text-align: right;\">\n",
       "      <th></th>\n",
       "      <th>0</th>\n",
       "      <th>1</th>\n",
       "      <th>2</th>\n",
       "    </tr>\n",
       "  </thead>\n",
       "  <tbody>\n",
       "    <tr>\n",
       "      <th>858732</th>\n",
       "      <td>0</td>\n",
       "      <td>0</td>\n",
       "      <td>9</td>\n",
       "    </tr>\n",
       "    <tr>\n",
       "      <th>252840</th>\n",
       "      <td>1</td>\n",
       "      <td>1</td>\n",
       "      <td>5</td>\n",
       "    </tr>\n",
       "    <tr>\n",
       "      <th>462810</th>\n",
       "      <td>2</td>\n",
       "      <td>2</td>\n",
       "      <td>0</td>\n",
       "    </tr>\n",
       "    <tr>\n",
       "      <th>136002</th>\n",
       "      <td>3</td>\n",
       "      <td>3</td>\n",
       "      <td>9</td>\n",
       "    </tr>\n",
       "    <tr>\n",
       "      <th>352614</th>\n",
       "      <td>4</td>\n",
       "      <td>4</td>\n",
       "      <td>0</td>\n",
       "    </tr>\n",
       "  </tbody>\n",
       "</table>\n",
       "</div>"
      ],
      "text/plain": [
       "        0  1  2\n",
       "858732  0  0  9\n",
       "252840  1  1  5\n",
       "462810  2  2  0\n",
       "136002  3  3  9\n",
       "352614  4  4  0"
      ]
     },
     "execution_count": 11,
     "metadata": {},
     "output_type": "execute_result"
    }
   ],
   "source": [
    "mapped_ratings.head(5)"
   ]
  },
  {
   "cell_type": "markdown",
   "metadata": {},
   "source": [
    "Now with these mapped ratings, it is easier to visualize the data based on book ratings.\n",
    "But there are way to many points to see any helpful relationships. Doing this 3D plot did not help me at all. I was just trying out different visualizations. "
   ]
  },
  {
   "cell_type": "code",
   "execution_count": 113,
   "metadata": {},
   "outputs": [
    {
     "data": {
      "image/png": "[encoded data removed]",
      "text/plain": [
       "<matplotlib.figure.Figure at 0x13004de90>"
      ]
     },
     "metadata": {},
     "output_type": "display_data"
    }
   ],
   "source": [
    "fig = plt.figure()\n",
    "ax = fig.add_subplot(111, projection='3d')\n",
    "ax.scatter(mapped_ratings[0], mapped_ratings[1], mapped_ratings[2],c=mapped_ratings[2])\n",
    "ax.set_xlabel('userID')\n",
    "ax.set_ylabel('ISBN')\n",
    "ax.set_zlabel('Book Rating')\n",
    "plt.show()"
   ]
  },
  {
   "cell_type": "markdown",
   "metadata": {},
   "source": [
    "## Training and Test set data split\n"
   ]
  },
  {
   "cell_type": "code",
   "execution_count": 12,
   "metadata": {
    "collapsed": true
   },
   "outputs": [],
   "source": [
    "training_set, test_set = train_test_split(mapped_ratings,test_size=0.20)\n",
    "training_set = np.array(training_set, dtype = 'int')\n",
    "test_set = np.array(test_set, dtype = 'int')"
   ]
  },
  {
   "cell_type": "code",
   "execution_count": 18,
   "metadata": {},
   "outputs": [
    {
     "data": {
      "text/plain": [
       "array([2003, 2932, 6225, ..., 7822, 7210, 4484])"
      ]
     },
     "execution_count": 18,
     "metadata": {},
     "output_type": "execute_result"
    }
   ],
   "source": [
    "# Getting the number of users and books\n",
    "nb_users = int(max(max(training_set[:,0]),max(test_set[:,0])))\n",
    "nb_books = int(max(max(training_set[:,1]),max(test_set[:,1])))\n",
    "training_set[:,1]#[mapped_ratings[:,0] == 1]\n",
    "#nb_books"
   ]
  },
  {
   "cell_type": "code",
   "execution_count": 19,
   "metadata": {
    "collapsed": true
   },
   "outputs": [],
   "source": [
    "# Converting the data into an array with users in lines and books in columns\n",
    "def convert(data): #check\n",
    "    new_data = []\n",
    "    for id_user in range(0, nb_users):\n",
    "        id_book = data[:,1][data[:,0] == id_user]\n",
    "        id_ratings = data[:,2][data[:,0] == id_user]\n",
    "        ratings = np.zeros(nb_books)\n",
    "        ratings[id_book] = id_ratings #numpy matches things up.\n",
    "        new_data.append(list(ratings))\n",
    "    return new_data"
   ]
  },
  {
   "cell_type": "code",
   "execution_count": 20,
   "metadata": {},
   "outputs": [],
   "source": [
    "training_set = convert(training_set)"
   ]
  },
  {
   "cell_type": "code",
   "execution_count": 21,
   "metadata": {
    "collapsed": true
   },
   "outputs": [],
   "source": [
    "test_set = convert(test_set)"
   ]
  },
  {
   "cell_type": "code",
   "execution_count": 22,
   "metadata": {
    "collapsed": true
   },
   "outputs": [],
   "source": [
    "# Converting the data into Torch tensors\n",
    "# tensors are mutlidimensional arrays that contain elements of a single data type.\n",
    "training_set = torch.FloatTensor(training_set)\n",
    "test_set = torch.FloatTensor(test_set)"
   ]
  },
  {
   "cell_type": "markdown",
   "metadata": {},
   "source": [
    "# Creating the architecture of the Neural Network"
   ]
  },
  {
   "cell_type": "code",
   "execution_count": 23,
   "metadata": {
    "collapsed": true
   },
   "outputs": [],
   "source": [
    "class SAE(nn.Module):\n",
    "    def __init__(self):\n",
    "        super(SAE,self).__init__()\n",
    "        self.fc1 = nn.Linear(nb_books, 20)#with 20 we trying to detect 20 features\n",
    "        self.fc2 = nn.Linear(20, 10)\n",
    "        #self.dropout = nn.Dropout(0.5)\n",
    "        self.fc3 = nn.Linear(10, 20 )#reconstructing matches first encode\n",
    "        #self.dropout_2 = nn.Dropout(0.5)\n",
    "        self.fc4 = nn.Linear(20, nb_books )#reconstructed features\n",
    "        self.activation = nn.Sigmoid()\n",
    "    def forward(self, x):\n",
    "        x = self.activation(self.fc1(x))\n",
    "        x = self.activation(self.fc2(x))\n",
    "        #x = self.dropout(x)\n",
    "        x = self.activation(self.fc3(x))\n",
    "        #x = self.dropout_2(x)\n",
    "        x = self.fc4(x) #vector of predicted ratings\n",
    "        return x"
   ]
  },
  {
   "cell_type": "code",
   "execution_count": 24,
   "metadata": {
    "collapsed": true
   },
   "outputs": [],
   "source": [
    "sae = SAE()\n",
    "criterion = nn.MSELoss()\n",
    "optimizer = optim.RMSprop(sae.parameters(), lr = 0.01, weight_decay = 0.5) # decay decrease learning rate every few epochs"
   ]
  },
  {
   "cell_type": "markdown",
   "metadata": {},
   "source": [
    "### Testing the SAE"
   ]
  },
  {
   "cell_type": "code",
   "execution_count": 34,
   "metadata": {
    "collapsed": true
   },
   "outputs": [],
   "source": [
    "def TestSAE():\n",
    "    test_loss = 0\n",
    "    s = 0.\n",
    "    output_numpy_all = np.empty([0,nb_books])\n",
    "    for id_user in range(nb_users):\n",
    "        input = Variable(training_set[id_user]).unsqueeze(0)#pytorch needs this dummy dimension\n",
    "        target = Variable(test_set[id_user])\n",
    "        if torch.sum(target.data > 0) > 0:\n",
    "            output = sae(input)\n",
    "            target.require_grad = False # don't compare against target\n",
    "            output[target == 0] = 0\n",
    "            output_numpy = output.data.numpy()\n",
    "            output_numpy_all = np.vstack((output_numpy_all, output_numpy) )\n",
    "            loss = criterion(output,target)\n",
    "            mean_corrector = nb_books/float(torch.sum(target.data > 0) + 1e-10)\n",
    "            test_loss += np.sqrt(loss.data[0]*mean_corrector) #this has the loss in the loss object\n",
    "            s += 1.\n",
    "    print('Test loss is: '+str(test_loss/s))\n",
    "    return test_loss/s"
   ]
  },
  {
   "cell_type": "markdown",
   "metadata": {},
   "source": [
    "### Training the SAE"
   ]
  },
  {
   "cell_type": "code",
   "execution_count": 37,
   "metadata": {},
   "outputs": [
    {
     "name": "stdout",
     "output_type": "stream",
     "text": [
      "epoch: 1 loss: 7.4834781387491525\n",
      "Test loss is: 7.6549775962830635\n",
      "epoch: 2 loss: 7.4502780412245615\n",
      "Test loss is: 7.649897862894924\n",
      "epoch: 3 loss: 7.41271456868631\n",
      "Test loss is: 7.644075066151254\n",
      "epoch: 4 loss: 7.369447780450598\n",
      "Test loss is: 7.6373154555873315\n",
      "epoch: 5 loss: 7.3192041850227145\n",
      "Test loss is: 7.6294880703428145\n",
      "epoch: 6 loss: 7.26105468270658\n",
      "Test loss is: 7.62053584639439\n",
      "epoch: 7 loss: 7.195066313071659\n",
      "Test loss is: 7.610604265604943\n",
      "epoch: 8 loss: 7.122763553767804\n",
      "Test loss is: 7.600059260551673\n",
      "epoch: 9 loss: 7.046686777798747\n",
      "Test loss is: 7.589324718247772\n",
      "epoch: 10 loss: 6.969284125796286\n",
      "Test loss is: 7.578709116075181\n",
      "epoch: 11 loss: 6.892155029491286\n",
      "Test loss is: 7.5683611937300865\n",
      "epoch: 12 loss: 6.816042390338931\n",
      "Test loss is: 7.5583213377718215\n",
      "epoch: 13 loss: 6.741219474726633\n",
      "Test loss is: 7.548580225563148\n",
      "epoch: 14 loss: 6.667712084415133\n",
      "Test loss is: 7.539112728489978\n",
      "epoch: 15 loss: 6.595505184856385\n",
      "Test loss is: 7.529891485221987\n",
      "epoch: 16 loss: 6.524476273742964\n",
      "Test loss is: 7.520892666522\n",
      "epoch: 17 loss: 6.454539292805395\n",
      "Test loss is: 7.512371780758856\n",
      "epoch: 18 loss: 6.38563120417879\n",
      "Test loss is: 7.504172541132478\n",
      "epoch: 19 loss: 6.317700400594742\n",
      "Test loss is: 7.496135196046125\n",
      "epoch: 20 loss: 6.250704719970479\n",
      "Test loss is: 7.48825008602138\n",
      "epoch: 21 loss: 6.184608749543714\n",
      "Test loss is: 7.480509140820841\n",
      "epoch: 22 loss: 6.119382519280336\n",
      "Test loss is: 7.472905489096891\n",
      "epoch: 23 loss: 6.055000199436896\n",
      "Test loss is: 7.465433118650398\n",
      "epoch: 24 loss: 5.991438815272971\n",
      "Test loss is: 7.45808674206431\n",
      "epoch: 25 loss: 5.928677930093223\n",
      "Test loss is: 7.4508616326838855\n",
      "epoch: 26 loss: 5.8666989965905465\n",
      "Test loss is: 7.443753474280811\n",
      "epoch: 27 loss: 5.805484988019099\n",
      "Test loss is: 7.436758424099161\n",
      "epoch: 28 loss: 5.7450201237410194\n",
      "Test loss is: 7.429872846987608\n",
      "epoch: 29 loss: 5.685289535595294\n",
      "Test loss is: 7.423093414767751\n",
      "epoch: 30 loss: 5.626319692127309\n",
      "Test loss is: 7.416417032172267\n",
      "epoch: 31 loss: 5.568119628212763\n",
      "Test loss is: 7.409840777266287\n",
      "epoch: 32 loss: 5.510720522268737\n",
      "Test loss is: 7.403361891676407\n",
      "epoch: 33 loss: 5.454126056751711\n",
      "Test loss is: 7.396977774024686\n",
      "epoch: 34 loss: 5.398189298711684\n",
      "Test loss is: 7.3906860168346915\n",
      "epoch: 35 loss: 5.342899603233168\n",
      "Test loss is: 7.384484232424984\n",
      "epoch: 36 loss: 5.288247123336299\n",
      "Test loss is: 7.378370281521772\n",
      "epoch: 37 loss: 5.234223433965697\n",
      "Test loss is: 7.372342023219176\n",
      "epoch: 38 loss: 5.1808641634777635\n",
      "Test loss is: 7.366397424044969\n",
      "epoch: 39 loss: 5.128112268403732\n",
      "Test loss is: 7.360534568613047\n",
      "epoch: 40 loss: 5.075966405582006\n",
      "Test loss is: 7.354751633765484\n",
      "epoch: 41 loss: 5.024458074278869\n",
      "Test loss is: 7.349046822117732\n",
      "epoch: 42 loss: 4.973528865794679\n",
      "Test loss is: 7.34341846897659\n",
      "epoch: 43 loss: 4.9231704259408335\n",
      "Test loss is: 7.337864904265387\n",
      "epoch: 44 loss: 4.873396305860198\n",
      "Test loss is: 7.332402094702912\n",
      "epoch: 45 loss: 4.824220580019538\n",
      "Test loss is: 7.32715325793611\n",
      "epoch: 46 loss: 4.7756323228570245\n",
      "Test loss is: 7.321973198752768\n",
      "epoch: 47 loss: 4.727580813475727\n",
      "Test loss is: 7.316860525408698\n",
      "epoch: 48 loss: 4.680058812611354\n",
      "Test loss is: 7.311813852117707\n",
      "epoch: 49 loss: 4.633105343480244\n",
      "Test loss is: 7.306831964949627\n",
      "epoch: 50 loss: 4.586669508275642\n",
      "Test loss is: 7.3019135927143815\n",
      "epoch: 51 loss: 4.5407558189279795\n",
      "Test loss is: 7.2970575165740375\n",
      "epoch: 52 loss: 4.495359337400268\n",
      "Test loss is: 7.2922625772270875\n",
      "epoch: 53 loss: 4.450455385275505\n",
      "Test loss is: 7.287527650770002\n",
      "epoch: 54 loss: 4.406037542154479\n",
      "Test loss is: 7.282851606713909\n",
      "epoch: 55 loss: 4.362099661747478\n",
      "Test loss is: 7.278237201610493\n",
      "epoch: 56 loss: 4.318678452057086\n",
      "Test loss is: 7.2737379732058915\n",
      "epoch: 57 loss: 4.275712521656087\n",
      "Test loss is: 7.26929287157473\n",
      "epoch: 58 loss: 4.2332212514700664\n",
      "Test loss is: 7.264900901582683\n",
      "epoch: 59 loss: 4.1912317688171115\n",
      "Test loss is: 7.260561256834333\n",
      "epoch: 60 loss: 4.1497301240927325\n",
      "Test loss is: 7.256272997481143\n",
      "epoch: 61 loss: 4.10868567279166\n",
      "Test loss is: 7.252035327834548\n",
      "epoch: 62 loss: 4.0681366226082405\n",
      "Test loss is: 7.247847401299042\n",
      "epoch: 63 loss: 4.028037793964659\n",
      "Test loss is: 7.24370842107398\n",
      "epoch: 64 loss: 3.9883763894223363\n",
      "Test loss is: 7.239617615709057\n",
      "epoch: 65 loss: 3.949150405905708\n",
      "Test loss is: 7.235574249846801\n",
      "epoch: 66 loss: 3.910352557510856\n",
      "Test loss is: 7.231577588868398\n",
      "epoch: 67 loss: 3.871984638974786\n",
      "Test loss is: 7.227626888990641\n",
      "epoch: 68 loss: 3.8340256162658606\n",
      "Test loss is: 7.223721556806797\n",
      "epoch: 69 loss: 3.796488671213712\n",
      "Test loss is: 7.219860799885089\n",
      "epoch: 70 loss: 3.7593434311228333\n",
      "Test loss is: 7.216044044398815\n",
      "epoch: 71 loss: 3.722600691593874\n",
      "Test loss is: 7.212270567782957\n",
      "epoch: 72 loss: 3.6862685996520814\n",
      "Test loss is: 7.208539784037117\n",
      "epoch: 73 loss: 3.6503282368587215\n",
      "Test loss is: 7.204850999077144\n",
      "epoch: 74 loss: 3.6147768542458554\n",
      "Test loss is: 7.201363798910837\n",
      "epoch: 75 loss: 3.5796442956637393\n",
      "Test loss is: 7.19802246192634\n",
      "epoch: 76 loss: 3.544897779137386\n",
      "Test loss is: 7.19471892409149\n",
      "epoch: 77 loss: 3.510513511745152\n",
      "Test loss is: 7.191452636918446\n",
      "epoch: 78 loss: 3.476509397607566\n",
      "Test loss is: 7.1882230210593505\n",
      "epoch: 79 loss: 3.4429085957868297\n",
      "Test loss is: 7.185029642902501\n",
      "epoch: 80 loss: 3.409668288257415\n",
      "Test loss is: 7.181871913136822\n",
      "epoch: 81 loss: 3.376767690966327\n",
      "Test loss is: 7.178749367759666\n",
      "epoch: 82 loss: 3.344203012230864\n",
      "Test loss is: 7.175661501036726\n",
      "epoch: 83 loss: 3.3119705209924732\n",
      "Test loss is: 7.172607862712138\n",
      "epoch: 84 loss: 3.280072615993608\n",
      "Test loss is: 7.169587986661968\n",
      "epoch: 85 loss: 3.2485190583400008\n",
      "Test loss is: 7.16660147205133\n",
      "epoch: 86 loss: 3.2172867243014864\n",
      "Test loss is: 7.163647821764119\n",
      "epoch: 87 loss: 3.1863781426471447\n",
      "Test loss is: 7.160726592457754\n",
      "epoch: 88 loss: 3.155800685274604\n",
      "Test loss is: 7.157837333389696\n",
      "epoch: 89 loss: 3.1255331117517353\n",
      "Test loss is: 7.154979633390666\n",
      "epoch: 90 loss: 3.0955820395116467\n",
      "Test loss is: 7.152153052004787\n",
      "epoch: 91 loss: 3.065978271276252\n",
      "Test loss is: 7.14935721664328\n",
      "epoch: 92 loss: 3.0366877385966604\n",
      "Test loss is: 7.146591770869507\n",
      "epoch: 93 loss: 3.007706332909556\n",
      "Test loss is: 7.143856282153132\n",
      "epoch: 94 loss: 2.979046938549416\n",
      "Test loss is: 7.141150391180392\n",
      "epoch: 95 loss: 2.9506883052529864\n",
      "Test loss is: 7.138473725114639\n",
      "epoch: 96 loss: 2.9226288638761435\n",
      "Test loss is: 7.1358258501021625\n",
      "epoch: 97 loss: 2.8948506635771176\n",
      "Test loss is: 7.13320641410684\n",
      "epoch: 98 loss: 2.8673507378901943\n",
      "Test loss is: 7.130615117164019\n",
      "epoch: 99 loss: 2.8401263564062025\n",
      "Test loss is: 7.128094625045442\n",
      "epoch: 100 loss: 2.813174618390529\n",
      "Test loss is: 7.1257198168269165\n",
      "epoch: 101 loss: 2.7864927371661627\n",
      "Test loss is: 7.123369876789616\n",
      "epoch: 102 loss: 2.7600778128813737\n",
      "Test loss is: 7.121044460309229\n",
      "epoch: 103 loss: 2.7339269844879572\n",
      "Test loss is: 7.11874328720941\n",
      "epoch: 104 loss: 2.7080742799009325\n",
      "Test loss is: 7.116553053134249\n",
      "epoch: 105 loss: 2.6825190050279284\n",
      "Test loss is: 7.114530367465059\n",
      "epoch: 106 loss: 2.657222543120927\n",
      "Test loss is: 7.112537091017724\n",
      "epoch: 107 loss: 2.632177679262777\n",
      "Test loss is: 7.110564668708054\n",
      "epoch: 108 loss: 2.6073817441707097\n",
      "Test loss is: 7.108612893189785\n",
      "epoch: 109 loss: 2.582840329687786\n",
      "Test loss is: 7.10668144992535\n",
      "epoch: 110 loss: 2.558551001420426\n",
      "Test loss is: 7.10477015141906\n",
      "epoch: 111 loss: 2.5345233654999566\n",
      "Test loss is: 7.1028787146947145\n",
      "epoch: 112 loss: 2.5107450740543715\n",
      "Test loss is: 7.101006950206047\n",
      "epoch: 113 loss: 2.4872020430778923\n",
      "Test loss is: 7.099154586201604\n",
      "epoch: 114 loss: 2.4639033455382178\n",
      "Test loss is: 7.09732141915303\n",
      "epoch: 115 loss: 2.440840500443984\n",
      "Test loss is: 7.095507228393318\n",
      "epoch: 116 loss: 2.4180145065737246\n",
      "Test loss is: 7.093711753311623\n",
      "epoch: 117 loss: 2.3954539052770962\n",
      "Test loss is: 7.0919348101613995\n",
      "epoch: 118 loss: 2.373131924467873\n",
      "Test loss is: 7.090176144144947\n",
      "epoch: 119 loss: 2.3510364006132556\n",
      "Test loss is: 7.088435579069527\n",
      "epoch: 120 loss: 2.329158037189145\n",
      "Test loss is: 7.086712898982692\n",
      "epoch: 121 loss: 2.3074944953763126\n",
      "Test loss is: 7.085007906020321\n",
      "epoch: 122 loss: 2.2860460818891792\n",
      "Test loss is: 7.083320354862682\n",
      "epoch: 123 loss: 2.264828954464815\n",
      "Test loss is: 7.081650125492612\n",
      "epoch: 124 loss: 2.2438257773450303\n"
     ]
    },
    {
     "name": "stdout",
     "output_type": "stream",
     "text": [
      "Test loss is: 7.079996977594431\n",
      "epoch: 125 loss: 2.223028407431641\n",
      "Test loss is: 7.07836074514773\n",
      "epoch: 126 loss: 2.202434870192378\n",
      "Test loss is: 7.076741203097287\n",
      "epoch: 127 loss: 2.1820432405905947\n",
      "Test loss is: 7.075143730195562\n",
      "epoch: 128 loss: 2.161851486112111\n",
      "Test loss is: 7.073710510047261\n",
      "epoch: 129 loss: 2.1418576028752865\n",
      "Test loss is: 7.072336287534442\n",
      "epoch: 130 loss: 2.1220614655281036\n",
      "Test loss is: 7.071018295249329\n",
      "epoch: 131 loss: 2.102466196073263\n",
      "Test loss is: 7.069713807250707\n",
      "epoch: 132 loss: 2.0830625261247215\n",
      "Test loss is: 7.06842277789578\n",
      "epoch: 133 loss: 2.063848463495964\n",
      "Test loss is: 7.06714495149309\n",
      "epoch: 134 loss: 2.044822106371146\n",
      "Test loss is: 7.065915435932394\n",
      "epoch: 135 loss: 2.025981509915832\n",
      "Test loss is: 7.064716619795982\n",
      "epoch: 136 loss: 2.0073269409397465\n",
      "Test loss is: 7.063530115767553\n",
      "epoch: 137 loss: 1.9888772084244586\n",
      "Test loss is: 7.062355709588007\n",
      "epoch: 138 loss: 1.970607435087972\n",
      "Test loss is: 7.061193371611384\n",
      "epoch: 139 loss: 1.9525156218779196\n",
      "Test loss is: 7.0600428757925675\n",
      "epoch: 140 loss: 1.9345998662279127\n",
      "Test loss is: 7.058913686698385\n",
      "epoch: 141 loss: 1.9168585142077714\n",
      "Test loss is: 7.057798347840924\n",
      "epoch: 142 loss: 1.899289816879236\n",
      "Test loss is: 7.05669419441159\n",
      "epoch: 143 loss: 1.881894944022001\n",
      "Test loss is: 7.055601078206371\n",
      "epoch: 144 loss: 1.8646925541874502\n",
      "Test loss is: 7.05451888438317\n",
      "epoch: 145 loss: 1.847672829820232\n",
      "Test loss is: 7.0534475145385525\n",
      "epoch: 146 loss: 1.8308187382765708\n",
      "Test loss is: 7.052386864612248\n",
      "epoch: 147 loss: 1.814129187538301\n",
      "Test loss is: 7.0513368143978195\n",
      "epoch: 148 loss: 1.797610821192963\n",
      "Test loss is: 7.050297234252715\n",
      "epoch: 149 loss: 1.781253132969715\n",
      "Test loss is: 7.0492680507851535\n",
      "epoch: 150 loss: 1.765057564047981\n",
      "Test loss is: 7.04824910627141\n"
     ]
    }
   ],
   "source": [
    "tr_losses = []\n",
    "test_losses = []\n",
    "nb_epoch = 150 #100,200\n",
    "for epoch in range(1, nb_epoch + 1):\n",
    "    train_loss = 0\n",
    "    s = 0.\n",
    "    for id_user in range(nb_users):\n",
    "        input = Variable(training_set[id_user]).unsqueeze(0)#pytorch needs this dummy dimension\n",
    "        target = input.clone()\n",
    "        if torch.sum(target.data > 0) > 0:\n",
    "            output = sae(input)\n",
    "            target.require_grad = False # don't compare against target\n",
    "            output[target == 0] = 0\n",
    "            loss = criterion(output,target)\n",
    "            mean_corrector = nb_books/float(torch.sum(target.data > 0) + 1e-10)\n",
    "            loss.backward()\n",
    "            train_loss += np.sqrt(loss.data[0]*mean_corrector) #this has the loss in the loss object\n",
    "            s += 1.\n",
    "            optimizer.step()\n",
    "    tr_losses.append(train_loss/s)\n",
    "    print('epoch: ' + str(epoch)+' loss: '+str(train_loss/s))\n",
    "    test_losses.append(TestSAE())#After each epoch do a test to monitor the loss, to see if overfitting is happening."
   ]
  },
  {
   "cell_type": "code",
   "execution_count": 56,
   "metadata": {
    "scrolled": true
   },
   "outputs": [
    {
     "data": {
      "text/plain": [
       "<matplotlib.legend.Legend at 0x117dc2e50>"
      ]
     },
     "execution_count": 56,
     "metadata": {},
     "output_type": "execute_result"
    },
    {
     "data": {
      "image/png": "[encoded data removed]",
      "text/plain": [
       "<matplotlib.figure.Figure at 0x118260a50>"
      ]
     },
     "metadata": {},
     "output_type": "display_data"
    }
   ],
   "source": [
    "tr_losses\n",
    "fig2 = plt.figure(figsize=(6,4))\n",
    "ax1 = fig2.add_subplot(111)\n",
    "ax1.plot(range(nb_epoch), tr_losses, label=\"Training Loss against Number of Epochs\")\n",
    "ax1.plot(range(nb_epoch),test_losses,label=\"Test Loss against Number of Epochs\")\n",
    "ax1.legend(loc=0)\n",
    "#plt.xlabel(\"number of epochs\")\n",
    "# plt.ylabel(\"training loss\")\n",
    "# plt.show()"
   ]
  },
  {
   "cell_type": "markdown",
   "metadata": {},
   "source": [
    "# Model Analysis"
   ]
  },
  {
   "cell_type": "markdown",
   "metadata": {},
   "source": [
    "** I thought I was experiencing overfitting, but this does not seem to be the case. To investigate if the model was overfitting, after each epoch I ran a test and recorded both the test loss and training loss for that epoch. I then I plotted them together above. We can see that the test loss is indeed decreasing as the epochs increase but at a very slow rate. For every decrease of the training loss by 0.03/0.04 the test loss decreases approximately by 0.01. The rate of decrease of the training loss is three times as much as the test loss. The way the model is now suggests that for a huge number of epochs the test loss will get low enough, but probably before then overfitting will occur. I do not have the resources\n",
    "This model did not perform well. I examined another approach to this problem on this dataset but they did not use deep learning. They were able to get an RMSE as low as 0.25. The best RMSE I was able to get was around 1 when I trained for 200 epochs. But I still experience overfitting. This is most likely due to my lack of data. I have much more data available, but my laptop could not handle much more than 10,000 entries. I suspect with more data I would my model would be able to learn more important features. If I also had a more powerful setup I would have carried out hyperparamter grid searh.\n",
    "Some feature engineering I could have also explored was correcting the data for the meaning rating.**"
   ]
  }
 ],
 "metadata": {
  "kernelspec": {
   "display_name": "Python 2",
   "language": "python",
   "name": "python2"
  },
  "language_info": {
   "codemirror_mode": {
    "name": "ipython",
    "version": 2
   },
   "file_extension": ".py",
   "mimetype": "text/x-python",
   "name": "python",
   "nbconvert_exporter": "python",
   "pygments_lexer": "ipython2",
   "version": "2.7.14"
  }
 },
 "nbformat": 4,
 "nbformat_minor": 2
}
