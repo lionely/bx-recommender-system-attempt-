{
 "cells": [
  {
   "cell_type": "code",
   "execution_count": 14,
   "metadata": {
    "collapsed": true
   },
   "outputs": [],
   "source": [
    "import numpy as np\n",
    "import pandas as pd\n",
    "import matplotlib.pyplot as plt\n",
    "from mpl_toolkits.mplot3d import Axes3D\n",
    "import random\n",
    "from sklearn.model_selection import train_test_split\n",
    "import torch\n",
    "import torch.nn as nn\n",
    "import torch.nn.parallel\n",
    "import torch.optim as optim\n",
    "import torch.utils.data\n",
    "from torch.autograd import Variable"
   ]
  },
  {
   "cell_type": "markdown",
   "metadata": {},
   "source": [
    "# Jonathan Scott"
   ]
  },
  {
   "cell_type": "markdown",
   "metadata": {},
   "source": [
    "# Resources\n",
    "https://rachellegardner.com/isbn-10-isbn-13-and-those-pesky-x%E2%80%99s/\n",
    "\n",
    "https://sellercentral.amazon.com/forums/thread.jspa?threadID=17640\n",
    "\n",
    "https://stackoverflow.com/questions/7881994/matplotlib-how-to-change-data-points-color-based-on-some-variable\n",
    "\n",
    "https://matplotlib.org/examples/mplot3d/scatter3d_demo.html"
   ]
  },
  {
   "cell_type": "markdown",
   "metadata": {},
   "source": [
    "# Background"
   ]
  },
  {
   "cell_type": "markdown",
   "metadata": {},
   "source": [
    "The task was using a Lab-41 dataset create a simple recommender system. Before I started the challenge  I knew nothing about machine learning let alone deep learning. In an attempt to fix this I took a Udemy course on deep learning. In the course the instructor used a Stacked AutoEncoder to make a simple recommender system. I thought I could try to do the same thing. I had problems getting the model to perform to my liking as I was experiecing overfitting. I discuss this later on."
   ]
  },
  {
   "cell_type": "markdown",
   "metadata": {},
   "source": [
    "### Importing the dataset\n",
    "I am using a MacBook Pro (Retina, 13-inch, Early 2015) with 8 GB 1867 MHz DDR3 of RAM. \n",
    "I also used the scientific IDE Spyder before transferring my work into this jupyter notebook, which when idle uses around 76% of my memory. This means that I do not have much space left for using the entire bx-data set. "
   ]
  },
  {
   "cell_type": "code",
   "execution_count": 73,
   "metadata": {},
   "outputs": [
    {
     "name": "stderr",
     "output_type": "stream",
     "text": [
      "Skipping line 21689: ';' expected after '\"'\n",
      "Skipping line 45329: ';' expected after '\"'\n",
      "Skipping line 45330: ';' expected after '\"'\n",
      "Skipping line 183262: ';' expected after '\"'\n",
      "Skipping line 210093: ';' expected after '\"'\n",
      "Skipping line 531938: ';' expected after '\"'\n",
      "Skipping line 663237: ';' expected after '\"'\n",
      "Skipping line 824822: ';' expected after '\"'\n",
      "Skipping line 877349: ';' expected after '\"'\n",
      "Skipping line 941679: ';' expected after '\"'\n",
      "Skipping line 1134132: ';' expected after '\"'\n",
      "Skipping line 1145176: ';' expected after '\"'\n",
      "Skipping line 1145177: ';' expected after '\"'\n",
      "Skipping line 1148551: ';' expected after '\"'\n"
     ]
    }
   ],
   "source": [
    "#books = pd.read_csv('BX-CSV-Dump/BX-Books.csv', sep = ';', header = None,engine= 'python',encoding = 'latin-1',error_bad_lines=False)\n",
    "#users = pd.read_csv('BX-CSV-Dump/BX-Users.csv', sep = ';', header = None,engine= 'python',encoding = 'latin-1',error_bad_lines=False)\n",
    "n = 1149767 #number of records in file\n",
    "s = 10000 #desired sample size\n",
    "skip = sorted(random.sample(xrange(n),n-s))\n",
    "ratings = pd.read_csv('BX-CSV-Dump/BX-Book-Ratings.csv', sep = ';', header = None,engine= 'python',encoding = 'latin-1',error_bad_lines=False,skiprows=skip)\n",
    "skip = [] #free(skip)"
   ]
  },
  {
   "cell_type": "markdown",
   "metadata": {},
   "source": [
    "### Data Inspection and Visualzation"
   ]
  },
  {
   "cell_type": "code",
   "execution_count": 91,
   "metadata": {},
   "outputs": [
    {
     "data": {
      "text/html": [
       "<div>\n",
       "<style>\n",
       "    .dataframe thead tr:only-child th {\n",
       "        text-align: right;\n",
       "    }\n",
       "\n",
       "    .dataframe thead th {\n",
       "        text-align: left;\n",
       "    }\n",
       "\n",
       "    .dataframe tbody tr th {\n",
       "        vertical-align: top;\n",
       "    }\n",
       "</style>\n",
       "<table border=\"1\" class=\"dataframe\">\n",
       "  <thead>\n",
       "    <tr style=\"text-align: right;\">\n",
       "      <th></th>\n",
       "      <th>0</th>\n",
       "      <th>1</th>\n",
       "      <th>2</th>\n",
       "    </tr>\n",
       "  </thead>\n",
       "  <tbody>\n",
       "    <tr>\n",
       "      <th>0</th>\n",
       "      <td>276774</td>\n",
       "      <td>3423111321</td>\n",
       "      <td>0</td>\n",
       "    </tr>\n",
       "    <tr>\n",
       "      <th>1</th>\n",
       "      <td>276847</td>\n",
       "      <td>3442441080</td>\n",
       "      <td>10</td>\n",
       "    </tr>\n",
       "    <tr>\n",
       "      <th>2</th>\n",
       "      <td>276847</td>\n",
       "      <td>3499433443</td>\n",
       "      <td>8</td>\n",
       "    </tr>\n",
       "    <tr>\n",
       "      <th>3</th>\n",
       "      <td>276847</td>\n",
       "      <td>3551551685</td>\n",
       "      <td>10</td>\n",
       "    </tr>\n",
       "    <tr>\n",
       "      <th>4</th>\n",
       "      <td>276925</td>\n",
       "      <td>2290309494</td>\n",
       "      <td>0</td>\n",
       "    </tr>\n",
       "  </tbody>\n",
       "</table>\n",
       "</div>"
      ],
      "text/plain": [
       "        0           1   2\n",
       "0  276774  3423111321   0\n",
       "1  276847  3442441080  10\n",
       "2  276847  3499433443   8\n",
       "3  276847  3551551685  10\n",
       "4  276925  2290309494   0"
      ]
     },
     "execution_count": 91,
     "metadata": {},
     "output_type": "execute_result"
    }
   ],
   "source": [
    "ratings.head()"
   ]
  },
  {
   "cell_type": "markdown",
   "metadata": {},
   "source": [
    "We are focused on the ratings data. The first column is a user-id, the second column is a ISBN number for a book and the third column is a book rating given by a user. After inspecting more of the ISBN number column, I noticed that not all entries are integers, some had X's in them. Which would make it hard to input into a neural network so I decided to map the userIDs and the ISBN numbers to smaller integers in order to have in a format that the PyTorch module can work with."
   ]
  },
  {
   "cell_type": "markdown",
   "metadata": {},
   "source": [
    "#### Mapping of userIds and ISBN columns"
   ]
  },
  {
   "cell_type": "code",
   "execution_count": 75,
   "metadata": {
    "collapsed": true
   },
   "outputs": [],
   "source": [
    "#remap USER IDs, so it is easy to get nb_users\n",
    "id_users = ratings[0].unique()\n",
    "user_map = {}\n",
    "user_count = 0\n",
    "for user in id_users:\n",
    "    user_map[user] = user_count\n",
    "    user_count+=1"
   ]
  },
  {
   "cell_type": "code",
   "execution_count": 76,
   "metadata": {
    "collapsed": true
   },
   "outputs": [],
   "source": [
    "id_books = ratings[1].unique()\n",
    "books_map = {}\n",
    "book_count = 0\n",
    "for book in id_books:\n",
    "    books_map[book] = book_count\n",
    "    book_count+=1"
   ]
  },
  {
   "cell_type": "code",
   "execution_count": 77,
   "metadata": {
    "collapsed": true
   },
   "outputs": [],
   "source": [
    "ratings_user_mapped = ratings[0].map(user_map)\n",
    "ratings_book_mapped = ratings[1].map(books_map)\n",
    "pieces = [ratings_user_mapped, ratings_book_mapped ,ratings[2]]\n",
    "mapped_ratings = pd.concat(pieces,axis=1)"
   ]
  },
  {
   "cell_type": "code",
   "execution_count": 105,
   "metadata": {
    "scrolled": false
   },
   "outputs": [
    {
     "data": {
      "text/html": [
       "<div>\n",
       "<style>\n",
       "    .dataframe thead tr:only-child th {\n",
       "        text-align: right;\n",
       "    }\n",
       "\n",
       "    .dataframe thead th {\n",
       "        text-align: left;\n",
       "    }\n",
       "\n",
       "    .dataframe tbody tr th {\n",
       "        vertical-align: top;\n",
       "    }\n",
       "</style>\n",
       "<table border=\"1\" class=\"dataframe\">\n",
       "  <thead>\n",
       "    <tr style=\"text-align: right;\">\n",
       "      <th></th>\n",
       "      <th>0</th>\n",
       "      <th>1</th>\n",
       "      <th>2</th>\n",
       "    </tr>\n",
       "  </thead>\n",
       "  <tbody>\n",
       "    <tr>\n",
       "      <th>0</th>\n",
       "      <td>0</td>\n",
       "      <td>0</td>\n",
       "      <td>0</td>\n",
       "    </tr>\n",
       "    <tr>\n",
       "      <th>1</th>\n",
       "      <td>1</td>\n",
       "      <td>1</td>\n",
       "      <td>10</td>\n",
       "    </tr>\n",
       "    <tr>\n",
       "      <th>2</th>\n",
       "      <td>1</td>\n",
       "      <td>2</td>\n",
       "      <td>8</td>\n",
       "    </tr>\n",
       "    <tr>\n",
       "      <th>3</th>\n",
       "      <td>1</td>\n",
       "      <td>3</td>\n",
       "      <td>10</td>\n",
       "    </tr>\n",
       "    <tr>\n",
       "      <th>4</th>\n",
       "      <td>2</td>\n",
       "      <td>4</td>\n",
       "      <td>0</td>\n",
       "    </tr>\n",
       "  </tbody>\n",
       "</table>\n",
       "</div>"
      ],
      "text/plain": [
       "   0  1   2\n",
       "0  0  0   0\n",
       "1  1  1  10\n",
       "2  1  2   8\n",
       "3  1  3  10\n",
       "4  2  4   0"
      ]
     },
     "execution_count": 105,
     "metadata": {},
     "output_type": "execute_result"
    }
   ],
   "source": [
    "mapped_ratings.head(5)"
   ]
  },
  {
   "cell_type": "markdown",
   "metadata": {},
   "source": [
    "Now with these mapped ratings, it is easier to visualize the data based on book ratings.\n",
    "But there are way to many points to see any helpful relationships."
   ]
  },
  {
   "cell_type": "code",
   "execution_count": 79,
   "metadata": {},
   "outputs": [
    {
     "data": {
      "image/png": "[encoded data removed]",
      "text/plain": [
       "<matplotlib.figure.Figure at 0x121d0b810>"
      ]
     },
     "metadata": {},
     "output_type": "display_data"
    }
   ],
   "source": [
    "fig = plt.figure()\n",
    "ax = fig.add_subplot(111, projection='3d')\n",
    "ax.scatter(mapped_ratings[0], mapped_ratings[1], mapped_ratings[2],c=mapped_ratings[2])\n",
    "ax.set_xlabel('userID')\n",
    "ax.set_ylabel('ISBN')\n",
    "ax.set_zlabel('Book Rating')\n",
    "plt.show()"
   ]
  },
  {
   "cell_type": "code",
   "execution_count": 103,
   "metadata": {},
   "outputs": [
    {
     "data": {
      "image/png": "[encoded data removed]",
      "text/plain": [
       "<matplotlib.figure.Figure at 0x11803cf90>"
      ]
     },
     "metadata": {},
     "output_type": "display_data"
    }
   ],
   "source": [
    "plt.hist(mapped_ratings[2])#frequency of rating values\n",
    "plt.title(\"Rating Values Histogram\")\n",
    "plt.xlabel(\"Rating\")\n",
    "plt.ylabel(\"Frequency\")\n",
    "plt.show()"
   ]
  },
  {
   "cell_type": "markdown",
   "metadata": {},
   "source": [
    "**Many books in my sample of the dataset were not rated by users. We also do not have a good distribution of other ratings.**"
   ]
  },
  {
   "cell_type": "markdown",
   "metadata": {},
   "source": [
    "## Training and Test set data split\n"
   ]
  },
  {
   "cell_type": "code",
   "execution_count": 80,
   "metadata": {
    "collapsed": true
   },
   "outputs": [],
   "source": [
    "training_set, test_set = train_test_split(mapped_ratings,test_size=0.20)\n",
    "training_set = np.array(training_set, dtype = 'int')\n",
    "test_set = np.array(test_set, dtype = 'int')"
   ]
  },
  {
   "cell_type": "code",
   "execution_count": 81,
   "metadata": {
    "collapsed": true
   },
   "outputs": [],
   "source": [
    "# Getting the number of users and books\n",
    "nb_users = int(max(max(training_set[:,0]),max(test_set[:,0])))\n",
    "nb_books = int(max(max(training_set[:,1]),max(test_set[:,1])))"
   ]
  },
  {
   "cell_type": "code",
   "execution_count": 82,
   "metadata": {
    "collapsed": true
   },
   "outputs": [],
   "source": [
    "# Converting the data into an array with users in lines and books in columns\n",
    "def convert(data): #check\n",
    "    new_data = []\n",
    "    for id_user in range(0, nb_users):\n",
    "        id_book = data[:,1][data[:,0] == id_user]\n",
    "        id_ratings = data[:,2][data[:,0] == id_user]\n",
    "        ratings = np.zeros(nb_books)\n",
    "        ratings[id_book] = id_ratings #numpy matches things up.\n",
    "        new_data.append(list(ratings))\n",
    "    return new_data"
   ]
  },
  {
   "cell_type": "code",
   "execution_count": 83,
   "metadata": {
    "collapsed": true
   },
   "outputs": [],
   "source": [
    "training_set = convert(training_set)\n",
    "test_set = convert(test_set)\n"
   ]
  },
  {
   "cell_type": "code",
   "execution_count": 84,
   "metadata": {
    "collapsed": true
   },
   "outputs": [],
   "source": [
    "# Converting the data into Torch tensors\n",
    "# tensors are mutlidimensional arrays that contain elements of a single data type.\n",
    "training_set = torch.FloatTensor(training_set)\n",
    "test_set = torch.FloatTensor(test_set)"
   ]
  },
  {
   "cell_type": "markdown",
   "metadata": {},
   "source": [
    "# Creating the architecture of the Neural Network"
   ]
  },
  {
   "cell_type": "code",
   "execution_count": 85,
   "metadata": {
    "collapsed": true
   },
   "outputs": [],
   "source": [
    "class SAE(nn.Module):\n",
    "    def __init__(self):\n",
    "        super(SAE,self).__init__()\n",
    "        self.fc1 = nn.Linear(nb_books, 20)#with 20 we trying to detect 20 features\n",
    "        self.fc2 = nn.Linear(20, 10)\n",
    "        #self.dropout = nn.Dropout(0.5)\n",
    "        self.fc3 = nn.Linear(10, 20 )#reconstructing matches first encode\n",
    "        #self.dropout_2 = nn.Dropout(0.5)\n",
    "        self.fc4 = nn.Linear(20, nb_books )#reconstructed features\n",
    "        self.activation = nn.Sigmoid()\n",
    "    def forward(self, x):\n",
    "        x = self.activation(self.fc1(x))\n",
    "        x = self.activation(self.fc2(x))\n",
    "        #x = self.dropout(x)\n",
    "        x = self.activation(self.fc3(x))\n",
    "        #x = self.dropout_2(x)\n",
    "        x = self.fc4(x) #vector of predicted ratings\n",
    "        return x"
   ]
  },
  {
   "cell_type": "code",
   "execution_count": 86,
   "metadata": {
    "collapsed": true
   },
   "outputs": [],
   "source": [
    "sae = SAE()\n",
    "criterion = nn.MSELoss()\n",
    "optimizer = optim.RMSprop(sae.parameters(), lr = 0.01, weight_decay = 0.5) # decay decrease learning rate every few epochs"
   ]
  },
  {
   "cell_type": "markdown",
   "metadata": {},
   "source": [
    "### Training the SAE"
   ]
  },
  {
   "cell_type": "code",
   "execution_count": 87,
   "metadata": {},
   "outputs": [
    {
     "name": "stdout",
     "output_type": "stream",
     "text": [
      "epoch: 1 loss: 7.577030860132892\n",
      "epoch: 2 loss: 7.564646790125606\n",
      "epoch: 3 loss: 7.540401882482371\n",
      "epoch: 4 loss: 7.515159060785696\n",
      "epoch: 5 loss: 7.488174354138215\n",
      "epoch: 6 loss: 7.458620753022409\n",
      "epoch: 7 loss: 7.425589200475038\n",
      "epoch: 8 loss: 7.38800306908648\n",
      "epoch: 9 loss: 7.344635095073243\n",
      "epoch: 10 loss: 7.294202251511719\n",
      "epoch: 11 loss: 7.235781575567776\n",
      "epoch: 12 loss: 7.169502987466799\n",
      "epoch: 13 loss: 7.096990118758535\n",
      "epoch: 14 loss: 7.020841872623477\n",
      "epoch: 15 loss: 6.943484977049205\n",
      "epoch: 16 loss: 6.866464804999867\n",
      "epoch: 17 loss: 6.790488006201228\n",
      "epoch: 18 loss: 6.715773011919235\n",
      "epoch: 19 loss: 6.642435725023602\n",
      "epoch: 20 loss: 6.5703035403443\n",
      "epoch: 21 loss: 6.499303645323644\n",
      "epoch: 22 loss: 6.429368947614867\n",
      "epoch: 23 loss: 6.360442374000957\n",
      "epoch: 24 loss: 6.292476698707161\n",
      "epoch: 25 loss: 6.225432633743139\n",
      "epoch: 26 loss: 6.159277351379619\n",
      "epoch: 27 loss: 6.093982877209198\n",
      "epoch: 28 loss: 6.029524845552751\n",
      "epoch: 29 loss: 5.965881864977998\n",
      "epoch: 30 loss: 5.903034734633699\n",
      "epoch: 31 loss: 5.840979592167806\n",
      "epoch: 32 loss: 5.779724052055464\n",
      "epoch: 33 loss: 5.719263959530175\n",
      "epoch: 34 loss: 5.659577516212859\n",
      "epoch: 35 loss: 5.600674458999356\n",
      "epoch: 36 loss: 5.542558320437985\n",
      "epoch: 37 loss: 5.485124362498142\n",
      "epoch: 38 loss: 5.428360711899434\n",
      "epoch: 39 loss: 5.37225689570799\n",
      "epoch: 40 loss: 5.316804726242024\n",
      "epoch: 41 loss: 5.262064315249394\n",
      "epoch: 42 loss: 5.207952968667308\n",
      "epoch: 43 loss: 5.154467073927335\n",
      "epoch: 44 loss: 5.101618243855611\n",
      "epoch: 45 loss: 5.049398008954114\n",
      "epoch: 46 loss: 4.997791261147264\n",
      "epoch: 47 loss: 4.946768612166283\n",
      "epoch: 48 loss: 4.8963219760690055\n",
      "epoch: 49 loss: 4.846447130376595\n",
      "epoch: 50 loss: 4.797222345511584\n"
     ]
    }
   ],
   "source": [
    "nb_epoch = 50 #100,200 causes overfitting anyways, dropout did not help.\n",
    "for epoch in range(1, nb_epoch + 1):\n",
    "    train_loss = 0\n",
    "    s = 0.\n",
    "    for id_user in range(nb_users):\n",
    "        input = Variable(training_set[id_user]).unsqueeze(0)#pytorch needs this dummy dimension\n",
    "        target = input.clone()\n",
    "        if torch.sum(target.data > 0) > 0:\n",
    "            output = sae(input)\n",
    "            target.require_grad = False # don't compare against target\n",
    "            output[target == 0] = 0\n",
    "            loss = criterion(output,target)\n",
    "            mean_corrector = nb_books/float(torch.sum(target.data > 0) + 1e-10)\n",
    "            loss.backward()\n",
    "            train_loss += np.sqrt(loss.data[0]*mean_corrector) #this has the loss in the loss object\n",
    "            s += 1.\n",
    "            optimizer.step()\n",
    "    print('epoch: ' + str(epoch)+' loss: '+str(train_loss/s))"
   ]
  },
  {
   "cell_type": "markdown",
   "metadata": {},
   "source": [
    "### Testing the SAE"
   ]
  },
  {
   "cell_type": "code",
   "execution_count": 88,
   "metadata": {},
   "outputs": [
    {
     "name": "stdout",
     "output_type": "stream",
     "text": [
      "Test loss is: 7.216454808378943\n"
     ]
    }
   ],
   "source": [
    "test_loss = 0\n",
    "s = 0.\n",
    "output_numpy_all = np.empty([0,nb_books])\n",
    "for id_user in range(nb_users):\n",
    "    input = Variable(training_set[id_user]).unsqueeze(0)#pytorch needs this dummy dimension\n",
    "    target = Variable(test_set[id_user])\n",
    "    if torch.sum(target.data > 0) > 0:\n",
    "        output = sae(input)\n",
    "        target.require_grad = False # don't compare against target\n",
    "        output[target == 0] = 0\n",
    "        output_numpy = output.data.numpy()\n",
    "        output_numpy_all = np.vstack((output_numpy_all, output_numpy) )\n",
    "        loss = criterion(output,target)\n",
    "        mean_corrector = nb_books/float(torch.sum(target.data > 0) + 1e-10)\n",
    "        test_loss += np.sqrt(loss.data[0]*mean_corrector) #this has the loss in the loss object\n",
    "        s += 1.\n",
    "print('Test loss is: '+str(test_loss/s))"
   ]
  },
  {
   "cell_type": "markdown",
   "metadata": {},
   "source": [
    "# Model Analysis"
   ]
  },
  {
   "cell_type": "markdown",
   "metadata": {},
   "source": [
    "**This model did not perform well. I examined another approach to this problem on this dataset but they did not use deep learning. They were able to get an RMSE as low as 0.25. The best RMSE I was able to get was around 1 when I trained for 200 epochs. But I still experience overfitting. This is most likely due to my lack of data. I have much more data available, but my laptop could not handle much more than 10,000 entries. I suspect with more data I would my model would be able to learn more important features. If I also had a more powerful setup I would have carried out hyperparamter grid searh.\n",
    "Some feature engineering I could have also explored was correcting the data for the meaning rating.**"
   ]
  }
 ],
 "metadata": {
  "kernelspec": {
   "display_name": "Python 2",
   "language": "python",
   "name": "python2"
  },
  "language_info": {
   "codemirror_mode": {
    "name": "ipython",
    "version": 2
   },
   "file_extension": ".py",
   "mimetype": "text/x-python",
   "name": "python",
   "nbconvert_exporter": "python",
   "pygments_lexer": "ipython2",
   "version": "2.7.14"
  }
 },
 "nbformat": 4,
 "nbformat_minor": 2
}
